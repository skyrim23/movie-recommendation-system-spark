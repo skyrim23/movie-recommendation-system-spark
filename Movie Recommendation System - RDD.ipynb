{
 "cells": [
  {
   "cell_type": "code",
   "execution_count": 1,
   "metadata": {
    "collapsed": true
   },
   "outputs": [],
   "source": [
    "import findspark\n",
    "\n",
    "findspark.init()"
   ]
  },
  {
   "cell_type": "code",
   "execution_count": 2,
   "metadata": {
    "collapsed": true,
    "scrolled": true
   },
   "outputs": [],
   "source": [
    "from pyspark.mllib.recommendation import ALS\n",
    "from pyspark import SparkContext\n",
    "import math\n",
    "import time"
   ]
  },
  {
   "cell_type": "code",
   "execution_count": 3,
   "metadata": {
    "collapsed": true,
    "scrolled": true
   },
   "outputs": [],
   "source": [
    "sc = SparkContext.getOrCreate()"
   ]
  },
  {
   "cell_type": "code",
   "execution_count": 4,
   "metadata": {
    "collapsed": true
   },
   "outputs": [],
   "source": [
    "movie_rating = sc.textFile(\"ml-latest-small/ratings.csv\")"
   ]
  },
  {
   "cell_type": "code",
   "execution_count": 5,
   "metadata": {
    "collapsed": true
   },
   "outputs": [],
   "source": [
    "header = movie_rating.take(1)[0]"
   ]
  },
  {
   "cell_type": "code",
   "execution_count": 6,
   "metadata": {
    "collapsed": true
   },
   "outputs": [],
   "source": [
    "rating_data = movie_rating.filter(lambda x: x!= header).map( lambda x : x.split(\",\")).map(lambda x : x)"
   ]
  },
  {
   "cell_type": "code",
   "execution_count": 7,
   "metadata": {},
   "outputs": [
    {
     "data": {
      "text/plain": [
       "[['1', '31', '2.5'], ['1', '1029', '3'], ['1', '1061', '3']]"
      ]
     },
     "execution_count": 7,
     "metadata": {},
     "output_type": "execute_result"
    }
   ],
   "source": [
    "rating_data.take(3)"
   ]
  },
  {
   "cell_type": "markdown",
   "metadata": {},
   "source": [
    "## Splitting data into Train, Validate and Test"
   ]
  },
  {
   "cell_type": "code",
   "execution_count": 8,
   "metadata": {
    "collapsed": true
   },
   "outputs": [],
   "source": [
    "train, validation, test = rating_data.randomSplit([6,2,2], seed =0)"
   ]
  },
  {
   "cell_type": "code",
   "execution_count": 9,
   "metadata": {
    "collapsed": true
   },
   "outputs": [],
   "source": [
    "rank=10\n",
    "numIterations=10\n",
    "als = ALS.train(train, rank , numIterations)\n"
   ]
  },
  {
   "cell_type": "markdown",
   "metadata": {},
   "source": [
    "### Grid search for optimal hyperparameter tuning"
   ]
  },
  {
   "cell_type": "code",
   "execution_count": 16,
   "metadata": {
    "collapsed": true
   },
   "outputs": [],
   "source": [
    "#RMSE algorithm\n",
    "\n",
    "def GridSearch(train, valid, num_iteration, reg_param, n_factors):\n",
    "    min_rmse = float('inf')\n",
    "    best_n =-1\n",
    "    best_reg =0\n",
    "    best_model = None\n",
    "    for n in n_factors:\n",
    "        for reg in reg_param:\n",
    "            model = ALS.train(train, rank =n , iterations = num_iteration, lambda_=reg, seed=0) # lambda_ = reg\n",
    "            predictions = model.predictAll(valid.map(lambda x: (x[0], x[1])))\n",
    "            predictions = predictions.map(lambda x: ((x[0], x[1]), x[2]))\n",
    "            rate_and_preds = valid.map(lambda x: ((int(x[0]), int(x[1])), float(x[2]))).join(predictions)\n",
    "            rmse = math.sqrt(rate_and_preds.map(lambda x : (x[1][0] -x[1][1])**2).mean())\n",
    "            print(\"{} latest factors and regularization = {}: validation RMSE is {}\".format(n, reg, rmse))\n",
    "            if rmse< min_rmse:\n",
    "                min_rmse =rmse\n",
    "                best_n=n\n",
    "                best_reg= reg\n",
    "                best_model= model\n",
    "        \n",
    "    pred = best_model.predictAll(train.map(lambda x: (x[0], x[1])))\n",
    "    pred = pred.map(lambda x: ((x[0], x[1]), x[2]))\n",
    "    rate_and_preds = train.map(lambda x: ((int(x[0]), int(x[1])), float(x[2]))).join(pred)\n",
    "    train_rmse = math.sqrt(rate_and_preds.map(lambda x: (x[1][0]-x[1][1])**2).mean())\n",
    "    print(\"\\n the best model has {} latent factors and regularization ={}:\".format(best_n,best_reg))\n",
    "    print(\"training RMSE is {}, validation RMSE is {} \".format(train_rmse,min_rmse))\n",
    "    return best_model\n",
    "    \n",
    "    \n",
    "\n",
    "\n",
    "\n"
   ]
  },
  {
   "cell_type": "code",
   "execution_count": 17,
   "metadata": {},
   "outputs": [
    {
     "name": "stdout",
     "output_type": "stream",
     "text": [
      "6 latest factors and regularization = 0.05: validation RMSE is 1.0141539026898878\n",
      "6 latest factors and regularization = 0.1: validation RMSE is 0.9450772741033104\n",
      "6 latest factors and regularization = 0.2: validation RMSE is 0.9203991361125834\n",
      "6 latest factors and regularization = 0.4: validation RMSE is 0.9852541026748688\n",
      "6 latest factors and regularization = 0.8: validation RMSE is 1.2000721165162\n",
      "8 latest factors and regularization = 0.05: validation RMSE is 1.0246771901319585\n",
      "8 latest factors and regularization = 0.1: validation RMSE is 0.9422120199717055\n",
      "8 latest factors and regularization = 0.2: validation RMSE is 0.9170344047486733\n",
      "8 latest factors and regularization = 0.4: validation RMSE is 0.9845811895009963\n",
      "8 latest factors and regularization = 0.8: validation RMSE is 1.200070747425822\n",
      "10 latest factors and regularization = 0.05: validation RMSE is 1.0399681062346595\n",
      "10 latest factors and regularization = 0.1: validation RMSE is 0.9460051885286055\n",
      "10 latest factors and regularization = 0.2: validation RMSE is 0.9185447847500403\n",
      "10 latest factors and regularization = 0.4: validation RMSE is 0.9846050778715004\n",
      "10 latest factors and regularization = 0.8: validation RMSE is 1.2000727359825296\n",
      "12 latest factors and regularization = 0.05: validation RMSE is 1.0397019338765805\n",
      "12 latest factors and regularization = 0.1: validation RMSE is 0.9448873012953398\n",
      "12 latest factors and regularization = 0.2: validation RMSE is 0.9180394711548754\n",
      "12 latest factors and regularization = 0.4: validation RMSE is 0.9845340429713193\n",
      "12 latest factors and regularization = 0.8: validation RMSE is 1.2000733655840554\n",
      "\n",
      " the best model has 8 latent factors and regularization =0.2:\n",
      "training RMSE is 0.6948655000401432, validation RMSE is 0.9170344047486733 \n",
      "Total Runtime: 656.20 seconds\n"
     ]
    }
   ],
   "source": [
    "num_iterations =10\n",
    "ranks = [6,8,10,12]\n",
    "reg_params = [0.05, 0.1, 0.2, 0.4, 0.8]\n",
    "\n",
    "start_time= time.time()\n",
    "final_model = GridSearch(train,validation, num_iterations, reg_params, ranks)\n",
    "print(\"Total Runtime: {:.2f} seconds\".format(time.time() - start_time ))"
   ]
  },
  {
   "cell_type": "code",
   "execution_count": 18,
   "metadata": {},
   "outputs": [
    {
     "name": "stdout",
     "output_type": "stream",
     "text": [
      "7 latest factors and regularization = 0.1: validation RMSE is 0.94669873280125\n",
      "7 latest factors and regularization = 0.2: validation RMSE is 0.9206103372383931\n",
      "7 latest factors and regularization = 0.3: validation RMSE is 0.944117625029372\n",
      "8 latest factors and regularization = 0.1: validation RMSE is 0.9427505864714627\n",
      "8 latest factors and regularization = 0.2: validation RMSE is 0.9180383380705001\n",
      "8 latest factors and regularization = 0.3: validation RMSE is 0.9433937077037492\n",
      "9 latest factors and regularization = 0.1: validation RMSE is 0.9406410163852678\n",
      "9 latest factors and regularization = 0.2: validation RMSE is 0.9183827511526049\n",
      "9 latest factors and regularization = 0.3: validation RMSE is 0.943426615985445\n",
      "\n",
      " the best model has 8 latent factors and regularization =0.2:\n",
      "training RMSE is 0.6914707673568733, validation RMSE is 0.9180383380705001 \n",
      "Total Runtime: 316.90 seconds\n"
     ]
    }
   ],
   "source": [
    "num_iterations =15\n",
    "ranks = [7,8,9]\n",
    "reg_params = [0.1,0.2,0.3]\n",
    "\n",
    "start_time= time.time()\n",
    "final_model = GridSearch(train,validation, num_iterations, reg_params, ranks)\n",
    "print(\"Total Runtime: {:.2f} seconds\".format(time.time() - start_time ))"
   ]
  },
  {
   "cell_type": "markdown",
   "metadata": {},
   "source": [
    "## RMSE on test data"
   ]
  },
  {
   "cell_type": "code",
   "execution_count": 20,
   "metadata": {},
   "outputs": [
    {
     "name": "stdout",
     "output_type": "stream",
     "text": [
      "The testing RMSE is 0.9236071516191982\n"
     ]
    }
   ],
   "source": [
    "predictions = final_model.predictAll(test.map(lambda x: (x[0], x[1]))) \n",
    "predictions = predictions.map(lambda x: ((x[0], x[1]), x[2]))\n",
    "rates_and_preds = test.map(lambda x: ((int(x[0]), int(x[1])), float(x[2]))).join(predictions)\n",
    "error = math.sqrt(rates_and_preds.map(lambda x: (x[1][0] - x[1][1])**2).mean())\n",
    "print(\"The testing RMSE is \"+ str(error))"
   ]
  },
  {
   "cell_type": "code",
   "execution_count": null,
   "metadata": {
    "collapsed": true
   },
   "outputs": [],
   "source": []
  }
 ],
 "metadata": {
  "kernelspec": {
   "display_name": "Python 3",
   "language": "python",
   "name": "python3"
  },
  "language_info": {
   "codemirror_mode": {
    "name": "ipython",
    "version": 3
   },
   "file_extension": ".py",
   "mimetype": "text/x-python",
   "name": "python",
   "nbconvert_exporter": "python",
   "pygments_lexer": "ipython3",
   "version": "3.6.3"
  }
 },
 "nbformat": 4,
 "nbformat_minor": 2
}
