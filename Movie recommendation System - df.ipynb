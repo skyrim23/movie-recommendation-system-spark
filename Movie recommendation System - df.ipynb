{
 "cells": [
  {
   "cell_type": "code",
   "execution_count": 73,
   "metadata": {
    "collapsed": true
   },
   "outputs": [],
   "source": [
    "import findspark \n",
    "\n",
    "findspark.init()"
   ]
  },
  {
   "cell_type": "code",
   "execution_count": 93,
   "metadata": {
    "collapsed": true
   },
   "outputs": [],
   "source": [
    "from pyspark import SparkContext\n",
    "from pyspark.ml.evaluation import RegressionEvaluator\n",
    "from pyspark.ml.recommendation import ALS\n",
    "\n",
    "import math\n",
    "import time"
   ]
  },
  {
   "cell_type": "code",
   "execution_count": 94,
   "metadata": {},
   "outputs": [],
   "source": [
    "from pyspark.sql import SparkSession\n",
    "\n",
    "spark = SparkSession.builder.appName(\"recommendation\").getOrCreate()"
   ]
  },
  {
   "cell_type": "code",
   "execution_count": 95,
   "metadata": {},
   "outputs": [],
   "source": [
    "data = spark.read.csv(\"ml-latest-small/ratings.csv\", inferSchema=True, header= True)"
   ]
  },
  {
   "cell_type": "code",
   "execution_count": 96,
   "metadata": {},
   "outputs": [
    {
     "data": {
      "text/plain": [
       "Row(userId=1, movieId=31, rating=2.5)"
      ]
     },
     "execution_count": 96,
     "metadata": {},
     "output_type": "execute_result"
    }
   ],
   "source": [
    "data.head()"
   ]
  },
  {
   "cell_type": "code",
   "execution_count": 97,
   "metadata": {},
   "outputs": [
    {
     "name": "stdout",
     "output_type": "stream",
     "text": [
      "root\n",
      " |-- userId: integer (nullable = true)\n",
      " |-- movieId: integer (nullable = true)\n",
      " |-- rating: double (nullable = true)\n",
      "\n"
     ]
    }
   ],
   "source": [
    "data.printSchema()"
   ]
  },
  {
   "cell_type": "code",
   "execution_count": 98,
   "metadata": {},
   "outputs": [
    {
     "name": "stdout",
     "output_type": "stream",
     "text": [
      "+-------+------------------+------------------+------------------+\n",
      "|summary|            userId|           movieId|            rating|\n",
      "+-------+------------------+------------------+------------------+\n",
      "|  count|            100004|            100004|            100004|\n",
      "|   mean| 347.0113095476181|12548.664363425463| 3.543608255669773|\n",
      "| stddev|195.16383797819535|26369.198968815268|1.0580641091070326|\n",
      "|    min|                 1|                 1|               0.5|\n",
      "|    max|               671|            163949|               5.0|\n",
      "+-------+------------------+------------------+------------------+\n",
      "\n"
     ]
    }
   ],
   "source": [
    "data.describe().show()"
   ]
  },
  {
   "cell_type": "code",
   "execution_count": 99,
   "metadata": {},
   "outputs": [],
   "source": [
    "(train, validation, test) = data.randomSplit([0.6, 0.2, 0.2], seed =1)"
   ]
  },
  {
   "cell_type": "code",
   "execution_count": 82,
   "metadata": {},
   "outputs": [],
   "source": [
    "#ALS model on training data\n",
    "als = ALS(maxIter= 5,\n",
    "          regParam= 0.01,\n",
    "          userCol=\"userId\", \n",
    "          ratingCol=\"rating\", \n",
    "          itemCol=\"movieId\", \n",
    "          coldStartStrategy= \"drop\",\n",
    "          implicitPrefs= False )# nonnegative=True)\n",
    "\n",
    "model = als.fit(train_data)"
   ]
  },
  {
   "cell_type": "code",
   "execution_count": 100,
   "metadata": {},
   "outputs": [],
   "source": [
    "# Grid searching for hyperparameter tuning\n",
    "\n",
    "def GridSearch(train, valid, num_iteration, reg_param, n_factors):\n",
    "    min_rmse = float('inf')\n",
    "    best_n = -1\n",
    "    best_reg =0\n",
    "    best_model= None\n",
    "    \n",
    "    for n in n_factors:\n",
    "        for reg in reg_param:\n",
    "            als = ALS(regParam= reg, \n",
    "                      rank=n,\n",
    "                      userCol=\"userId\", \n",
    "                      ratingCol=\"rating\", \n",
    "                      itemCol=\"movieId\", \n",
    "                      coldStartStrategy= \"drop\",\n",
    "                      implicitPrefs= False )\n",
    "            model = als.fit(train)\n",
    "            predictions= model.transform(valid)\n",
    "            evaluator = RegressionEvaluator(metricName= \"rmse\", labelCol=\"rating\", predictionCol=\"prediction\") #, coldStartStrategy =\"drop\")\n",
    "            rmse = evaluator.evaluate(predictions)\n",
    "            print(\"{} latent factors and regularization = {}: validation RMSE is {}\".format(n, reg, rmse))\n",
    "            if rmse< min_rmse:\n",
    "                min_rmse =rmse\n",
    "                best_n=n\n",
    "                best_reg= reg\n",
    "                best_model= model\n",
    "    \n",
    "    predictions = best_model.transform(valid)\n",
    "    evaluator = RegressionEvaluator(metricName= \"rmse\", labelCol=\"rating\", predictionCol=\"prediction\") #, coldStartStrategy =\"drop\")\n",
    "    train_rmse = evaluator.evaluate(predictions)  \n",
    "    print(\"\\nThe best model has {} latent factors and regularization = {}:\".format(best_n, best_reg))\n",
    "    print(\"traning RMSE is {}; validation RMSE is {}\".format(train_rmse, min_rmse))\n",
    "    return best_model\n",
    "\n",
    "\n",
    "    \n"
   ]
  },
  {
   "cell_type": "code",
   "execution_count": 89,
   "metadata": {},
   "outputs": [
    {
     "name": "stderr",
     "output_type": "stream",
     "text": [
      "Exception ignored in: <object repr() failed>\n",
      "Traceback (most recent call last):\n",
      "  File \"F:\\spark\\python\\pyspark\\ml\\wrapper.py\", line 40, in __del__\n",
      "    if SparkContext._active_spark_context and self._java_obj is not None:\n",
      "AttributeError: 'ALS' object has no attribute '_java_obj'\n"
     ]
    },
    {
     "name": "stdout",
     "output_type": "stream",
     "text": [
      "6 latent factors and regularization = 0.05: validation RMSE is 1.0156902904383778\n",
      "6 latent factors and regularization = 0.1: validation RMSE is 0.9489052379032114\n",
      "6 latent factors and regularization = 0.2: validation RMSE is 0.9238211690110109\n",
      "6 latent factors and regularization = 0.4: validation RMSE is 0.9844931017261915\n",
      "6 latent factors and regularization = 0.8: validation RMSE is 1.1971975376992765\n",
      "8 latent factors and regularization = 0.05: validation RMSE is 1.0252742255333507\n",
      "8 latent factors and regularization = 0.1: validation RMSE is 0.9468494634914641\n",
      "8 latent factors and regularization = 0.2: validation RMSE is 0.9218965688157329\n",
      "8 latent factors and regularization = 0.4: validation RMSE is 0.9832390784054195\n",
      "8 latent factors and regularization = 0.8: validation RMSE is 1.1971982257844678\n",
      "10 latent factors and regularization = 0.05: validation RMSE is 1.0396438319222423\n",
      "10 latent factors and regularization = 0.1: validation RMSE is 0.9517662191927447\n",
      "10 latent factors and regularization = 0.2: validation RMSE is 0.9231038892566499\n",
      "10 latent factors and regularization = 0.4: validation RMSE is 0.9836366815443811\n",
      "10 latent factors and regularization = 0.8: validation RMSE is 1.1972021359324048\n",
      "12 latent factors and regularization = 0.05: validation RMSE is 1.0402791930453195\n",
      "12 latent factors and regularization = 0.1: validation RMSE is 0.9503785132252575\n",
      "12 latent factors and regularization = 0.2: validation RMSE is 0.9224023210973227\n",
      "12 latent factors and regularization = 0.4: validation RMSE is 0.9836445800757995\n",
      "12 latent factors and regularization = 0.8: validation RMSE is 1.1972046362969258\n",
      "\n",
      "The best model has 8 latent factors and regularization = 0.2:\n",
      "traning RMSE is 0.9218965688157329; validation RMSE is 0.9218965688157329\n",
      "Total Runtime: 1037.58 seconds\n"
     ]
    }
   ],
   "source": [
    "num_iterations =10\n",
    "ranks = [6,8,10,12]\n",
    "reg_params = [0.05, 0.1, 0.2, 0.4, 0.8]\n",
    "\n",
    "start_time= time.time()\n",
    "final_model = GridSearch(train,validation, num_iterations, reg_params, ranks)\n",
    "print(\"Total Runtime: {:.2f} seconds\".format(time.time() - start_time ))"
   ]
  },
  {
   "cell_type": "code",
   "execution_count": 101,
   "metadata": {},
   "outputs": [
    {
     "name": "stdout",
     "output_type": "stream",
     "text": [
      "7 latent factors and regularization = 0.1: validation RMSE is 0.9467362219330183\n",
      "7 latent factors and regularization = 0.2: validation RMSE is 0.9214610351653614\n",
      "7 latent factors and regularization = 0.3: validation RMSE is 0.9443191949284415\n",
      "8 latent factors and regularization = 0.1: validation RMSE is 0.9468494634914641\n",
      "8 latent factors and regularization = 0.2: validation RMSE is 0.9218965688157329\n",
      "8 latent factors and regularization = 0.3: validation RMSE is 0.9447256172021044\n",
      "9 latent factors and regularization = 0.1: validation RMSE is 0.9499697339615238\n",
      "9 latent factors and regularization = 0.2: validation RMSE is 0.9217837059475428\n",
      "9 latent factors and regularization = 0.3: validation RMSE is 0.9453621227799466\n",
      "\n",
      "The best model has 7 latent factors and regularization = 0.2:\n",
      "traning RMSE is 0.9214610351653614; validation RMSE is 0.9214610351653614\n"
     ]
    }
   ],
   "source": [
    "num_iterations = 15\n",
    "ranks = [7, 8, 9]\n",
    "reg_params = [0.1, 0.2, 0.3]\n",
    "\n",
    "final_model = GridSearch(train, validation, num_iterations, reg_params, ranks)"
   ]
  },
  {
   "cell_type": "code",
   "execution_count": 92,
   "metadata": {},
   "outputs": [
    {
     "name": "stdout",
     "output_type": "stream",
     "text": [
      "The testing RMSE is 1.1201958264099678\n"
     ]
    },
    {
     "ename": "NameError",
     "evalue": "name 'RMSE' is not defined",
     "output_type": "error",
     "traceback": [
      "\u001b[1;31m---------------------------------------------------------------------------\u001b[0m",
      "\u001b[1;31mNameError\u001b[0m                                 Traceback (most recent call last)",
      "\u001b[1;32m<ipython-input-92-2ff8b55adfd5>\u001b[0m in \u001b[0;36m<module>\u001b[1;34m()\u001b[0m\n\u001b[0;32m      4\u001b[0m \u001b[0mtest_rmse\u001b[0m \u001b[1;33m=\u001b[0m \u001b[0mevaluator\u001b[0m\u001b[1;33m.\u001b[0m\u001b[0mevaluate\u001b[0m\u001b[1;33m(\u001b[0m\u001b[0mpredictions\u001b[0m\u001b[1;33m)\u001b[0m\u001b[1;33m\u001b[0m\u001b[0m\n\u001b[0;32m      5\u001b[0m \u001b[0mprint\u001b[0m\u001b[1;33m(\u001b[0m\u001b[1;34m\"The testing RMSE is \"\u001b[0m\u001b[1;33m+\u001b[0m \u001b[0mstr\u001b[0m\u001b[1;33m(\u001b[0m\u001b[0mtest_rmse\u001b[0m\u001b[1;33m)\u001b[0m\u001b[1;33m)\u001b[0m\u001b[1;33m\u001b[0m\u001b[0m\n\u001b[1;32m----> 6\u001b[1;33m \u001b[0mprint\u001b[0m\u001b[1;33m(\u001b[0m\u001b[1;34m\"The testing RMSE is \"\u001b[0m\u001b[1;33m+\u001b[0m \u001b[0mstr\u001b[0m\u001b[1;33m(\u001b[0m\u001b[0mRMSE\u001b[0m\u001b[1;33m(\u001b[0m\u001b[0mpred_test\u001b[0m\u001b[1;33m)\u001b[0m\u001b[1;33m)\u001b[0m\u001b[1;33m)\u001b[0m\u001b[1;33m\u001b[0m\u001b[0m\n\u001b[0m",
      "\u001b[1;31mNameError\u001b[0m: name 'RMSE' is not defined"
     ]
    }
   ],
   "source": [
    "#traning with finest model \n",
    "pred_test = final_model.transform(test)\n",
    "evaluator = RegressionEvaluator(metricName= \"rmse\", labelCol=\"rating\", predictionCol=\"prediction\") #, coldStartStrategy =\"drop\")\n",
    "test_rmse = evaluator.evaluate(predictions) \n",
    "print(\"The testing RMSE is \"+ str(test_rmse))\n",
    "print(\"The testing RMSE is \"+ str(RMSE(pred_test)))"
   ]
  },
  {
   "cell_type": "code",
   "execution_count": null,
   "metadata": {
    "collapsed": true
   },
   "outputs": [],
   "source": []
  }
 ],
 "metadata": {
  "kernelspec": {
   "display_name": "Python 3",
   "language": "python",
   "name": "python3"
  },
  "language_info": {
   "codemirror_mode": {
    "name": "ipython",
    "version": 3
   },
   "file_extension": ".py",
   "mimetype": "text/x-python",
   "name": "python",
   "nbconvert_exporter": "python",
   "pygments_lexer": "ipython3",
   "version": "3.6.3"
  }
 },
 "nbformat": 4,
 "nbformat_minor": 2
}
